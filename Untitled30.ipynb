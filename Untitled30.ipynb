{
 "cells": [
  {
   "cell_type": "code",
   "execution_count": 1,
   "id": "b082d87b-66d0-4605-9db0-536e2782204f",
   "metadata": {},
   "outputs": [
    {
     "name": "stdout",
     "output_type": "stream",
     "text": [
      "Requirement already satisfied: SpeechRecognition in c:\\users\\akshaya reddy\\anaconda3\\lib\\site-packages (3.13.0)Note: you may need to restart the kernel to use updated packages.\n",
      "\n",
      "Requirement already satisfied: pyaudio in c:\\users\\akshaya reddy\\anaconda3\\lib\\site-packages (0.2.14)\n",
      "Collecting transformers\n",
      "  Downloading transformers-4.50.0-py3-none-any.whl.metadata (39 kB)\n",
      "Requirement already satisfied: typing-extensions in c:\\users\\akshaya reddy\\anaconda3\\lib\\site-packages (from SpeechRecognition) (4.11.0)\n",
      "Requirement already satisfied: filelock in c:\\users\\akshaya reddy\\anaconda3\\lib\\site-packages (from transformers) (3.13.1)\n",
      "Collecting huggingface-hub<1.0,>=0.26.0 (from transformers)\n",
      "  Downloading huggingface_hub-0.29.3-py3-none-any.whl.metadata (13 kB)\n",
      "Requirement already satisfied: numpy>=1.17 in c:\\users\\akshaya reddy\\anaconda3\\lib\\site-packages (from transformers) (1.26.4)\n",
      "Requirement already satisfied: packaging>=20.0 in c:\\users\\akshaya reddy\\anaconda3\\lib\\site-packages (from transformers) (24.1)\n",
      "Requirement already satisfied: pyyaml>=5.1 in c:\\users\\akshaya reddy\\anaconda3\\lib\\site-packages (from transformers) (6.0.1)\n",
      "Requirement already satisfied: regex!=2019.12.17 in c:\\users\\akshaya reddy\\anaconda3\\lib\\site-packages (from transformers) (2024.9.11)\n",
      "Requirement already satisfied: requests in c:\\users\\akshaya reddy\\anaconda3\\lib\\site-packages (from transformers) (2.32.3)\n",
      "Collecting tokenizers<0.22,>=0.21 (from transformers)\n",
      "  Downloading tokenizers-0.21.1-cp39-abi3-win_amd64.whl.metadata (6.9 kB)\n",
      "Collecting safetensors>=0.4.3 (from transformers)\n",
      "  Downloading safetensors-0.5.3-cp38-abi3-win_amd64.whl.metadata (3.9 kB)\n",
      "Requirement already satisfied: tqdm>=4.27 in c:\\users\\akshaya reddy\\anaconda3\\lib\\site-packages (from transformers) (4.66.5)\n",
      "Requirement already satisfied: fsspec>=2023.5.0 in c:\\users\\akshaya reddy\\anaconda3\\lib\\site-packages (from huggingface-hub<1.0,>=0.26.0->transformers) (2024.6.1)\n",
      "Requirement already satisfied: colorama in c:\\users\\akshaya reddy\\anaconda3\\lib\\site-packages (from tqdm>=4.27->transformers) (0.4.6)\n",
      "Requirement already satisfied: charset-normalizer<4,>=2 in c:\\users\\akshaya reddy\\anaconda3\\lib\\site-packages (from requests->transformers) (3.3.2)\n",
      "Requirement already satisfied: idna<4,>=2.5 in c:\\users\\akshaya reddy\\anaconda3\\lib\\site-packages (from requests->transformers) (3.7)\n",
      "Requirement already satisfied: urllib3<3,>=1.21.1 in c:\\users\\akshaya reddy\\anaconda3\\lib\\site-packages (from requests->transformers) (2.2.3)\n",
      "Requirement already satisfied: certifi>=2017.4.17 in c:\\users\\akshaya reddy\\anaconda3\\lib\\site-packages (from requests->transformers) (2024.8.30)\n",
      "Downloading transformers-4.50.0-py3-none-any.whl (10.2 MB)\n",
      "   ---------------------------------------- 0.0/10.2 MB ? eta -:--:--\n",
      "   - -------------------------------------- 0.3/10.2 MB ? eta -:--:--\n",
      "   - -------------------------------------- 0.3/10.2 MB ? eta -:--:--\n",
      "   - -------------------------------------- 0.3/10.2 MB ? eta -:--:--\n",
      "   ---- ----------------------------------- 1.0/10.2 MB 1.2 MB/s eta 0:00:08\n",
      "   ------ --------------------------------- 1.6/10.2 MB 1.6 MB/s eta 0:00:06\n",
      "   ---------- ----------------------------- 2.6/10.2 MB 2.3 MB/s eta 0:00:04\n",
      "   ------------ --------------------------- 3.1/10.2 MB 2.5 MB/s eta 0:00:03\n",
      "   --------------- ------------------------ 3.9/10.2 MB 2.5 MB/s eta 0:00:03\n",
      "   ----------------- ---------------------- 4.5/10.2 MB 2.5 MB/s eta 0:00:03\n",
      "   -------------------- ------------------- 5.2/10.2 MB 2.7 MB/s eta 0:00:02\n",
      "   ------------------------ --------------- 6.3/10.2 MB 2.9 MB/s eta 0:00:02\n",
      "   -------------------------- ------------- 6.8/10.2 MB 2.9 MB/s eta 0:00:02\n",
      "   -------------------------- ------------- 6.8/10.2 MB 2.9 MB/s eta 0:00:02\n",
      "   -------------------------------- ------- 8.4/10.2 MB 3.0 MB/s eta 0:00:01\n",
      "   --------------------------------- ------ 8.7/10.2 MB 2.9 MB/s eta 0:00:01\n",
      "   ------------------------------------ --- 9.2/10.2 MB 2.9 MB/s eta 0:00:01\n",
      "   -------------------------------------- - 9.7/10.2 MB 2.8 MB/s eta 0:00:01\n",
      "   ---------------------------------------  10.0/10.2 MB 2.8 MB/s eta 0:00:01\n",
      "   ---------------------------------------- 10.2/10.2 MB 2.8 MB/s eta 0:00:00\n",
      "Downloading huggingface_hub-0.29.3-py3-none-any.whl (468 kB)\n",
      "Downloading safetensors-0.5.3-cp38-abi3-win_amd64.whl (308 kB)\n",
      "Downloading tokenizers-0.21.1-cp39-abi3-win_amd64.whl (2.4 MB)\n",
      "   ---------------------------------------- 0.0/2.4 MB ? eta -:--:--\n",
      "   -------- ------------------------------- 0.5/2.4 MB 2.4 MB/s eta 0:00:01\n",
      "   ----------------- ---------------------- 1.0/2.4 MB 2.8 MB/s eta 0:00:01\n",
      "   ------------------------------ --------- 1.8/2.4 MB 3.4 MB/s eta 0:00:01\n",
      "   ---------------------------------------- 2.4/2.4 MB 3.3 MB/s eta 0:00:00\n",
      "Installing collected packages: safetensors, huggingface-hub, tokenizers, transformers\n",
      "Successfully installed huggingface-hub-0.29.3 safetensors-0.5.3 tokenizers-0.21.1 transformers-4.50.0\n"
     ]
    }
   ],
   "source": [
    "pip install SpeechRecognition pyaudio transformers\n"
   ]
  },
  {
   "cell_type": "code",
   "execution_count": 6,
   "id": "eecd5f86-434e-4a39-9b10-1bf4d6758475",
   "metadata": {},
   "outputs": [
    {
     "name": "stdout",
     "output_type": "stream",
     "text": [
      "Hello!Good Morning...\n",
      "Transcribing the speech...\n",
      "Sorry, I couldn't understand the audio.\n"
     ]
    }
   ],
   "source": [
    "import speech_recognition as sr\n",
    "\n",
    "# Initialize recognizer\n",
    "recognizer = sr.Recognizer()\n",
    "\n",
    "# Use the microphone as the source of audio\n",
    "with sr.Microphone() as source:\n",
    "    print(\"Hello!Good Morning...\")\n",
    "    # Adjust for ambient noise and listen to the audio\n",
    "    recognizer.adjust_for_ambient_noise(source)\n",
    "    audio = recognizer.listen(source)\n",
    "\n",
    "    try:\n",
    "        print(\"Transcribing the speech...\")\n",
    "        # Use Google's speech recognition API to transcribe\n",
    "        text = recognizer.recognize_google(audio)\n",
    "        print(\"You said: \" + text)\n",
    "    except sr.UnknownValueError:\n",
    "        print(\"Sorry, I couldn't understand the audio.\")\n",
    "    except sr.RequestError as e:\n",
    "        print(\"Could not request results from Google Speech Recognition service; {0}\".format(e))\n"
   ]
  },
  {
   "cell_type": "code",
   "execution_count": null,
   "id": "77bbe92a-7eac-443e-bf58-1caa415a48bc",
   "metadata": {},
   "outputs": [],
   "source": []
  }
 ],
 "metadata": {
  "kernelspec": {
   "display_name": "Python 3 (ipykernel)",
   "language": "python",
   "name": "python3"
  },
  "language_info": {
   "codemirror_mode": {
    "name": "ipython",
    "version": 3
   },
   "file_extension": ".py",
   "mimetype": "text/x-python",
   "name": "python",
   "nbconvert_exporter": "python",
   "pygments_lexer": "ipython3",
   "version": "3.12.7"
  }
 },
 "nbformat": 4,
 "nbformat_minor": 5
}
