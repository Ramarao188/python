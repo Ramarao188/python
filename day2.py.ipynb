{
 "cells": [
  {
   "cell_type": "code",
   "execution_count": 1,
   "id": "d7aee255-5e18-4b30-b1c1-644bf78aec74",
   "metadata": {},
   "outputs": [
    {
     "name": "stdout",
     "output_type": "stream",
     "text": [
      "List: [10, 20, 30, 40, 50]\n",
      "Accessing elements in the list:\n",
      "First element: 10\n",
      "Last element: 50\n",
      "Slice (2nd to 4th): [20, 30, 40]\n",
      "\n",
      "Tuple: ('apple', 'banana', 'cherry', 'date', 'elderberry')\n",
      "Accessing elements in the tuple:\n",
      "First element: apple\n",
      "Last element: elderberry\n",
      "Slice (2nd to 4th): ('banana', 'cherry', 'date')\n",
      "\n",
      "Dictionary: {'name': 'Alice', 'age': 25, 'city': 'New York', 'job': 'Engineer', 'hobby': 'Photography'}\n",
      "Accessing elements in the dictionary:\n",
      "Value for 'name': Alice\n",
      "Value for 'city': New York\n",
      "All keys: ['name', 'age', 'city', 'job', 'hobby']\n",
      "All values: ['Alice', 25, 'New York', 'Engineer', 'Photography']\n"
     ]
    }
   ],
   "source": [
    "my_list = [10, 20, 30, 40, 50]\n",
    "print(\"List:\", my_list)\n",
    "print(\"Accessing elements in the list:\")\n",
    "print(\"First element:\", my_list[0])\n",
    "print(\"Last element:\", my_list[-1])\n",
    "print(\"Slice (2nd to 4th):\", my_list[1:4])\n",
    "\n",
    "\n",
    "my_tuple = (\"apple\", \"banana\", \"cherry\", \"date\", \"elderberry\")\n",
    "print(\"\\nTuple:\", my_tuple)\n",
    "print(\"Accessing elements in the tuple:\")\n",
    "print(\"First element:\", my_tuple[0])\n",
    "print(\"Last element:\", my_tuple[-1])\n",
    "print(\"Slice (2nd to 4th):\", my_tuple[1:4])\n",
    "\n",
    "\n",
    "my_dict = {\n",
    "    \"name\": \"Alice\",\n",
    "    \"age\": 25,\n",
    "    \"city\": \"New York\",\n",
    "    \"job\": \"Engineer\",\n",
    "    \"hobby\": \"Photography\"\n",
    "}\n",
    "print(\"\\nDictionary:\", my_dict)\n",
    "print(\"Accessing elements in the dictionary:\")\n",
    "print(\"Value for 'name':\", my_dict[\"name\"])\n",
    "print(\"Value for 'city':\", my_dict[\"city\"])\n",
    "print(\"All keys:\", list(my_dict.keys()))\n",
    "print(\"All values:\", list(my_dict.values()))\n"
   ]
  },
  {
   "cell_type": "code",
   "execution_count": null,
   "id": "6b989e6f-4313-46f2-909f-6fca3a793397",
   "metadata": {},
   "outputs": [],
   "source": []
  }
 ],
 "metadata": {
  "kernelspec": {
   "display_name": "Python 3 (ipykernel)",
   "language": "python",
   "name": "python3"
  },
  "language_info": {
   "codemirror_mode": {
    "name": "ipython",
    "version": 3
   },
   "file_extension": ".py",
   "mimetype": "text/x-python",
   "name": "python",
   "nbconvert_exporter": "python",
   "pygments_lexer": "ipython3",
   "version": "3.12.7"
  }
 },
 "nbformat": 4,
 "nbformat_minor": 5
}
