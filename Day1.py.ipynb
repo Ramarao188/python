{
 "cells": [
  {
   "cell_type": "code",
   "execution_count": 2,
   "id": "3708338b-dd44-4046-b78d-02769462e06c",
   "metadata": {},
   "outputs": [
    {
     "name": "stdout",
     "output_type": "stream",
     "text": [
      "integer_var: 42, type: <class 'int'>\n",
      "float_var: 3.14, type: <class 'float'>\n",
      "string_var: Hello, world!, type: <class 'str'>\n",
      "boolean_var: True, type: <class 'bool'>\n"
     ]
    }
   ],
   "source": [
    "integer_var = 42\n",
    "float_var = 3.14\n",
    "string_var = \"Hello, world!\"\n",
    "boolean_var = True\n",
    "\n",
    "print(f\"integer_var: {integer_var}, type: {type(integer_var)}\")\n",
    "print(f\"float_var: {float_var}, type: {type(float_var)}\")\n",
    "print(f\"string_var: {string_var}, type: {type(string_var)}\")\n",
    "print(f\"boolean_var: {boolean_var}, type: {type(boolean_var)}\")\n"
   ]
  },
  {
   "cell_type": "code",
   "execution_count": null,
   "id": "d263c377-e26e-4046-ad46-048cbf9c6e57",
   "metadata": {},
   "outputs": [],
   "source": []
  }
 ],
 "metadata": {
  "kernelspec": {
   "display_name": "Python 3 (ipykernel)",
   "language": "python",
   "name": "python3"
  },
  "language_info": {
   "codemirror_mode": {
    "name": "ipython",
    "version": 3
   },
   "file_extension": ".py",
   "mimetype": "text/x-python",
   "name": "python",
   "nbconvert_exporter": "python",
   "pygments_lexer": "ipython3",
   "version": "3.12.7"
  }
 },
 "nbformat": 4,
 "nbformat_minor": 5
}
